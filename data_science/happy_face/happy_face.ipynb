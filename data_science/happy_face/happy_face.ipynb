{
 "cells": [
  {
   "cell_type": "markdown",
   "metadata": {},
   "source": [
    "# Keras tutorial - Распознавание эмоций на изображениях лиц\n",
    "\n",
    "В рамках данной лабораторной работы:\n",
    "1. Изучите Keras, высокоуровневый API для нейронных сетей (programming framework), написанный на Python и способный работать поверх нескольких низкоуровневых фреймворков, включая TensorFlow и CNTK. \n",
    "2. Построите алгоритм глубокого обучения.\n",
    "\n",
    "#### Зачем использовать Keras? \n",
    "\n",
    "* Keras был разработан инженрами и специалистами в области глубокого обучения для быстрого построения моделей\n",
    "* TensorFlow является фреймворком высокого уровня, Keras является более высокоуровневым фреймворком и предоставляет дополнительные абстракции. \n",
    "* Способность перейти от идеи к результату с наименьшей возможной задержкой является ключом к поиску хороших моделей. \n",
    "* Однако Keras имеет больше ограничений, чем фреймворки низкого уровня, поэтому очень сложные модели необходимо реализовывать в TensorFlow , а не в Keras. \n",
    "* Тем не менее, Keras будет отлично работать для множества популярных моделей."
   ]
  },
  {
   "cell_type": "markdown",
   "metadata": {},
   "source": [
    "`Данный notebook использует материалы курса Deep Learning от организации deeplearning.ai`\n",
    " \n",
    " Ссылка на основной курс (для желающих получить сертификаты): https://www.coursera.org/specializations/deep-learning"
   ]
  },
  {
   "cell_type": "markdown",
   "metadata": {},
   "source": [
    "## 1 - Пакеты/Библиотеки"
   ]
  },
  {
   "cell_type": "code",
   "execution_count": 55,
   "metadata": {},
   "outputs": [],
   "source": [
    "import numpy as np\n",
    "from keras import layers\n",
    "from keras.layers import Input, Dense, Activation, ZeroPadding2D, BatchNormalization, Flatten, Conv2D\n",
    "from keras.layers import AveragePooling2D, MaxPooling2D, Dropout, GlobalMaxPooling2D, GlobalAveragePooling2D\n",
    "from keras.models import Model\n",
    "from keras.preprocessing import image\n",
    "from keras.utils import layer_utils\n",
    "from keras.utils.data_utils import get_file\n",
    "from keras.applications.imagenet_utils import preprocess_input\n",
    "import pydot\n",
    "from IPython.display import SVG\n",
    "from keras.utils.vis_utils import model_to_dot\n",
    "from keras.utils import plot_model\n",
    "from kt_utils import *\n",
    "\n",
    "import keras.backend as K\n",
    "K.set_image_data_format('channels_last')\n",
    "import matplotlib.pyplot as plt\n",
    "from matplotlib.pyplot import imshow\n",
    "\n",
    "%matplotlib inline"
   ]
  },
  {
   "cell_type": "markdown",
   "metadata": {},
   "source": [
    "## 1 - Отслеживание эмоций\n",
    "\n",
    "* Необходимо создать приложение, которое классифицирует эмоции человека на \"happy\" и \"not happy\".\n",
    "\n",
    "Пример датасета на изображении:\n",
    "<img src=\"images/face_images.png\" style=\"width:550px;height:250px;\">"
   ]
  },
  {
   "cell_type": "code",
   "execution_count": 56,
   "metadata": {},
   "outputs": [
    {
     "name": "stdout",
     "output_type": "stream",
     "text": [
      "number of training examples = 600\n",
      "number of test examples = 150\n",
      "X_train shape: (600, 64, 64, 3)\n",
      "Y_train shape: (600, 1)\n",
      "X_test shape: (150, 64, 64, 3)\n",
      "Y_test shape: (150, 1)\n"
     ]
    }
   ],
   "source": [
    "X_train_orig, Y_train_orig, X_test_orig, Y_test_orig, classes = load_dataset()\n",
    "\n",
    "# Нормализация\n",
    "X_train = X_train_orig/255.\n",
    "X_test = X_test_orig/255.\n",
    "\n",
    "# Reshape\n",
    "Y_train = Y_train_orig.T\n",
    "Y_test = Y_test_orig.T\n",
    "\n",
    "print (\"number of training examples = \" + str(X_train.shape[0]))\n",
    "print (\"number of test examples = \" + str(X_test.shape[0]))\n",
    "print (\"X_train shape: \" + str(X_train.shape))\n",
    "print (\"Y_train shape: \" + str(Y_train.shape))\n",
    "print (\"X_test shape: \" + str(X_test.shape))\n",
    "print (\"Y_test shape: \" + str(Y_test.shape))"
   ]
  },
  {
   "cell_type": "markdown",
   "metadata": {},
   "source": [
    "## 2 - Построение модели в Keras\n",
    "\n",
    "В Keras можно быстро делать прототип моделей, вот пример одной из них:\n",
    "```python\n",
    "def model(input_shape):\n",
    "    \"\"\"\n",
    "    input_shape:  (height, width, channels) - tuple.  \n",
    "    \"\"\"\n",
    "    \n",
    "    # Определение входного tensor с размером input_shape (размер изображения).\n",
    "    X_input = Input(input_shape)\n",
    "\n",
    "    # Zero-Padding: заполнение X_input нулями по краям изображения\n",
    "    X = ZeroPadding2D((3, 3))(X_input)\n",
    "\n",
    "    # CONV -> BN -> RELU\n",
    "    X = Conv2D(32, (7, 7), strides = (1, 1), name = 'conv0')(X)\n",
    "    X = BatchNormalization(axis = 3, name = 'bn0')(X)\n",
    "    X = Activation('relu')(X)\n",
    "\n",
    "    # MAXPOOL\n",
    "    X = MaxPooling2D((2, 2), name='max_pool')(X)\n",
    "\n",
    "    # FLATTEN X (конвертирование в вектор) + FULLYCONNECTED\n",
    "    X = Flatten()(X)\n",
    "    X = Dense(1, activation='sigmoid', name='fc')(X)\n",
    "\n",
    "    # Создание экземпляра модели Keras, вы будете использовать этот экземпляр для обучения тестирования модели.\n",
    "    model = Model(inputs = X_input, outputs = X, name='HappyModel')\n",
    "    \n",
    "    return model\n",
    "```"
   ]
  },
  {
   "cell_type": "markdown",
   "metadata": {},
   "source": [
    "#### Наименование переменных\n",
    "\n",
    "* Обратите внимание, что Keras использует другое соглашение с именами переменных, чем ранее использовался с numpy и TensorFlow. \n",
    "* Вместо создания уникальных имен переменных для каждого шага и каждого слоя, таких как\n",
    "```\n",
    "X = ...\n",
    "Z1 = ...\n",
    "A1 = ...\n",
    "```\n",
    "* Keras перезаписывает переменную на каждом шаге:\n",
    "```\n",
    "X = ...\n",
    "X = ...\n",
    "X = ...\n",
    "```\n",
    "* Исключение составляет `X_input`, который необходимо держать отдельно, так как он используется позже."
   ]
  },
  {
   "cell_type": "markdown",
   "metadata": {},
   "source": [
    "#### Объекты, как функции\n",
    "* Обратите внимание, что в каждом операторе есть две пары скобок. Например:\n",
    "```\n",
    "X = ZeroPadding2D((3, 3))(X_input)\n",
    "```\n",
    "* Первая - это вызов конструктора, который создает объект (ZeroPadding2D).\n",
    "* В Python объекты могут быть вызваны как функции. Более подробно об этом можно прочитать в блоге:[Python Pandemonium](https://medium.com/python-pandemonium/function-as-objects-in-python-d5215e6d1b0d).\n",
    "```\n",
    "ZP = ZeroPadding2D((3, 3)) # ZP, который вызывается как функция\n",
    "X = ZP(X_input) \n",
    "```"
   ]
  },
  {
   "cell_type": "markdown",
   "metadata": {},
   "source": [
    "**Задача**: Реализовать функцию `HappyModel()`.  \n",
    "* Существуют различные функции активации `AveragePooling2D()`, `GlobalMaxPooling2D()`, `Dropout()`. "
   ]
  },
  {
   "cell_type": "code",
   "execution_count": 59,
   "metadata": {},
   "outputs": [],
   "source": [
    "def HappyModel(input_shape):\n",
    "    \"\"\"\n",
    "    Реализация HappyModel.\n",
    "    \n",
    "    Arguments:\n",
    "    input_shape -- размер изображения\n",
    "        (height, width, channels) - tuple.  \n",
    "    Returns:\n",
    "        model -- Model() объект Keras\n",
    "\n",
    "    \"\"\"\n",
    "    X_input = Input(input_shape, name=\"images\")\n",
    "\n",
    "    X = ZeroPadding2D((3, 3))(X_input)\n",
    "\n",
    "    # CONV -> BN -> RELU\n",
    "    X = Conv2D(32, (7, 7), strides=(1, 1), name='conv0')(X)\n",
    "    X = BatchNormalization(axis=3, name='bn0')(X)\n",
    "    X = Activation('relu')(X)\n",
    "\n",
    "    # MAXPOOL\n",
    "    X = MaxPooling2D((2, 2), name='max_pool')(X)\n",
    "\n",
    "    # FLATTEN X\n",
    "    X = Flatten()(X)\n",
    "    X = Dense(1, activation='sigmoid', name='fc')(X)\n",
    "\n",
    "    model = Model(inputs=X_input, outputs=X, name='HappyModel')    \n",
    "    return model"
   ]
  },
  {
   "cell_type": "markdown",
   "metadata": {},
   "source": [
    "После построения самой модели необходимо её обучить и протестировать. \n",
    "\n",
    "Необходимо выполнить четыре шага:\n",
    "1. Создать модель, вызвав функцию выше  \n",
    "\n",
    "2. Скомпилировать модель, вызвав - `model.compile(optimizer = \"...\", loss = \"...\", metrics = [\"accuracy\"])`  \n",
    "\n",
    "3. Обучить модель,вызвав - `model.fit(x = ..., y = ..., epochs = ..., batch_size = ...)`  \n",
    "\n",
    "4. Протестировать модель - `model.evaluate(x = ..., y = ...)`  \n",
    "\n",
    "Более подробно про `model.compile()`, `model.fit()`, `model.evaluate()` в официальной документации [Keras documentation](https://keras.io/models/model/)."
   ]
  },
  {
   "cell_type": "markdown",
   "metadata": {},
   "source": [
    "#### Step 1: Создание модели"
   ]
  },
  {
   "cell_type": "code",
   "execution_count": 60,
   "metadata": {},
   "outputs": [],
   "source": [
    "happyModel = HappyModel(X_train.shape[1:])"
   ]
  },
  {
   "cell_type": "markdown",
   "metadata": {},
   "source": [
    "#### Step 2: Компиляция модели\n",
    "\n",
    "Оптимизаторы - [optimizers](https://keras.io/optimizers/)  \n",
    "Можно использовать функцию потерь `'binary_cross_entropy'` - [losses](https://keras.io/losses/)"
   ]
  },
  {
   "cell_type": "code",
   "execution_count": 61,
   "metadata": {},
   "outputs": [],
   "source": [
    "happyModel.compile('adam', 'binary_crossentropy', metrics=['accuracy'])"
   ]
  },
  {
   "cell_type": "markdown",
   "metadata": {},
   "source": [
    "#### Step 3: Обучение модели\n",
    "\n",
    "**Заметка**: Если вы снова запустите `fit()`, то `model` будет продолжать обучаться с уже изученными параметрами вместо их повторной инициализации."
   ]
  },
  {
   "cell_type": "code",
   "execution_count": 62,
   "metadata": {},
   "outputs": [
    {
     "name": "stdout",
     "output_type": "stream",
     "text": [
      "Epoch 1/20\n",
      "12/12 [==============================] - 1s 99ms/step - loss: 2.8971 - accuracy: 0.5442\n",
      "Epoch 2/20\n",
      "12/12 [==============================] - 1s 97ms/step - loss: 0.8227 - accuracy: 0.6702\n",
      "Epoch 3/20\n",
      "12/12 [==============================] - 1s 100ms/step - loss: 0.2009 - accuracy: 0.9263\n",
      "Epoch 4/20\n",
      "12/12 [==============================] - 1s 99ms/step - loss: 0.1731 - accuracy: 0.9296\n",
      "Epoch 5/20\n",
      "12/12 [==============================] - 1s 94ms/step - loss: 0.1184 - accuracy: 0.9591\n",
      "Epoch 6/20\n",
      "12/12 [==============================] - 1s 105ms/step - loss: 0.1002 - accuracy: 0.9762\n",
      "Epoch 7/20\n",
      "12/12 [==============================] - 1s 101ms/step - loss: 0.0867 - accuracy: 0.9837\n",
      "Epoch 8/20\n",
      "12/12 [==============================] - 1s 98ms/step - loss: 0.0901 - accuracy: 0.9765\n",
      "Epoch 9/20\n",
      "12/12 [==============================] - 1s 101ms/step - loss: 0.0615 - accuracy: 0.9845\n",
      "Epoch 10/20\n",
      "12/12 [==============================] - 1s 99ms/step - loss: 0.0646 - accuracy: 0.9862\n",
      "Epoch 11/20\n",
      "12/12 [==============================] - 1s 109ms/step - loss: 0.0461 - accuracy: 0.9875\n",
      "Epoch 12/20\n",
      "12/12 [==============================] - 1s 102ms/step - loss: 0.0428 - accuracy: 0.9884\n",
      "Epoch 13/20\n",
      "12/12 [==============================] - 1s 95ms/step - loss: 0.0456 - accuracy: 0.9892\n",
      "Epoch 14/20\n",
      "12/12 [==============================] - 1s 98ms/step - loss: 0.0559 - accuracy: 0.9770\n",
      "Epoch 15/20\n",
      "12/12 [==============================] - 1s 105ms/step - loss: 0.0627 - accuracy: 0.9850\n",
      "Epoch 16/20\n",
      "12/12 [==============================] - 1s 103ms/step - loss: 0.0597 - accuracy: 0.9821\n",
      "Epoch 17/20\n",
      "12/12 [==============================] - 1s 101ms/step - loss: 0.0691 - accuracy: 0.9826\n",
      "Epoch 18/20\n",
      "12/12 [==============================] - 1s 97ms/step - loss: 0.0877 - accuracy: 0.9647\n",
      "Epoch 19/20\n",
      "12/12 [==============================] - 1s 97ms/step - loss: 0.1103 - accuracy: 0.9670\n",
      "Epoch 20/20\n",
      "12/12 [==============================] - 1s 98ms/step - loss: 0.0504 - accuracy: 0.9864\n"
     ]
    },
    {
     "data": {
      "text/plain": [
       "<tensorflow.python.keras.callbacks.History at 0x7fb430fa1250>"
      ]
     },
     "execution_count": 62,
     "metadata": {},
     "output_type": "execute_result"
    }
   ],
   "source": [
    "happyModel.fit(X_train, Y_train, epochs=20, batch_size=50)"
   ]
  },
  {
   "cell_type": "markdown",
   "metadata": {},
   "source": [
    "#### Step 4: Оценка модели\n"
   ]
  },
  {
   "cell_type": "code",
   "execution_count": 63,
   "metadata": {
    "scrolled": true
   },
   "outputs": [
    {
     "name": "stdout",
     "output_type": "stream",
     "text": [
      "5/5 [==============================] - 0s 12ms/step - loss: 0.4134 - accuracy: 0.7000\n",
      "\n",
      "Loss = 0.41342848539352417\n",
      "Test Accuracy = 0.699999988079071\n"
     ]
    }
   ],
   "source": [
    "preds = happyModel.evaluate(X_test, Y_test, batch_size=32, verbose=1, sample_weight=None)\n",
    "print()\n",
    "print (\"Loss = \" + str(preds[0]))\n",
    "print (\"Test Accuracy = \" + str(preds[1]))"
   ]
  },
  {
   "cell_type": "markdown",
   "metadata": {},
   "source": [
    "#### Советы по улучшению вашей модели\n",
    "\n",
    "\n",
    "- Используйте блоки CONV->BATCHNORM->RELU, такие как:\n",
    "```python\n",
    "X = Conv2D(32, (3, 3), strides = (1, 1), name = 'conv0')(X)\n",
    "X = BatchNormalization(axis = 3, name = 'bn0')(X)\n",
    "X = Activation('relu')(X)\n",
    "```\n",
    "- Используйте MAXPOOL после таких блоков. Это поможет уменьшить размер по высоте и ширине.\n",
    "- Измените оптимизатор.\n",
    "- Запускайте больше эпох, пока не увидите, что точность на обучении больше не улучшается."
   ]
  },
  {
   "cell_type": "markdown",
   "metadata": {},
   "source": [
    "## 3 - Выводы"
   ]
  },
  {
   "cell_type": "markdown",
   "metadata": {},
   "source": [
    "## Ключевые моменты, которые нужно запомнить\n",
    "- Keras - это инструмент, который рекомендуется для быстрого прототипирования. Это позволяет быстро опробовать различные архитектуры моделей.\n",
    "- Помните четыре шага в Keras: \n",
    "1. Создавать \n",
    "2. Компилировать \n",
    "3. Fit/Train \n",
    "4. Evaluate/Test"
   ]
  },
  {
   "cell_type": "markdown",
   "metadata": {},
   "source": [
    "## 4 - Тестирование на своих изображениях"
   ]
  },
  {
   "cell_type": "code",
   "execution_count": 70,
   "metadata": {},
   "outputs": [
    {
     "name": "stdout",
     "output_type": "stream",
     "text": [
      "[[0.]]\n"
     ]
    },
    {
     "data": {
      "image/png": "[encoded data removed]",
      "text/plain": [
       "<Figure size 432x288 with 1 Axes>"
      ]
     },
     "metadata": {
      "needs_background": "light"
     },
     "output_type": "display_data"
    }
   ],
   "source": [
    "img_path = 'images/my_image.jpg'\n",
    "img = image.load_img(img_path, target_size=(64, 64))\n",
    "imshow(img)\n",
    "\n",
    "x = image.img_to_array(img)\n",
    "x = np.expand_dims(x, axis=0)\n",
    "x = preprocess_input(x)\n",
    "\n",
    "print(happyModel.predict(x))"
   ]
  },
  {
   "cell_type": "markdown",
   "metadata": {},
   "source": [
    "## 5 - Другие полезные функции\n",
    "\n",
    "Другие полезные функции Keras:: \n",
    "- `model.summary()`: выводит сведения о слоях в таблицу с размерами входов/выходов\n",
    "- `plot_model()`: строит график в красивом макете. Вы даже можете сохранить его как \".png \" с помощью SVG()."
   ]
  },
  {
   "cell_type": "code",
   "execution_count": 65,
   "metadata": {},
   "outputs": [
    {
     "name": "stdout",
     "output_type": "stream",
     "text": [
      "Model: \"HappyModel\"\n",
      "_________________________________________________________________\n",
      "Layer (type)                 Output Shape              Param #   \n",
      "=================================================================\n",
      "images (InputLayer)          [(None, 64, 64, 3)]       0         \n",
      "_________________________________________________________________\n",
      "zero_padding2d_2 (ZeroPaddin (None, 70, 70, 3)         0         \n",
      "_________________________________________________________________\n",
      "conv0 (Conv2D)               (None, 64, 64, 32)        4736      \n",
      "_________________________________________________________________\n",
      "bn0 (BatchNormalization)     (None, 64, 64, 32)        128       \n",
      "_________________________________________________________________\n",
      "activation_2 (Activation)    (None, 64, 64, 32)        0         \n",
      "_________________________________________________________________\n",
      "max_pool (MaxPooling2D)      (None, 32, 32, 32)        0         \n",
      "_________________________________________________________________\n",
      "flatten_2 (Flatten)          (None, 32768)             0         \n",
      "_________________________________________________________________\n",
      "fc (Dense)                   (None, 1)                 32769     \n",
      "=================================================================\n",
      "Total params: 37,633\n",
      "Trainable params: 37,569\n",
      "Non-trainable params: 64\n",
      "_________________________________________________________________\n"
     ]
    }
   ],
   "source": [
    "happyModel.summary()"
   ]
  },
  {
   "cell_type": "code",
   "execution_count": 66,
   "metadata": {},
   "outputs": [
    {
     "data": {
      "image/png": "[encoded data removed]",
      "text/plain": [
       "<IPython.core.display.Image object>"
      ]
     },
     "execution_count": 66,
     "metadata": {},
     "output_type": "execute_result"
    }
   ],
   "source": [
    "plot_model(happyModel, to_file='HappyModel.png')\n",
    "# SVG(model_to_dot(happyModel).create(prog='dot', format='svg'))"
   ]
  },
  {
   "cell_type": "markdown",
   "metadata": {},
   "source": [
    "## 6 - Сохранение модели"
   ]
  },
  {
   "cell_type": "code",
   "execution_count": 67,
   "metadata": {},
   "outputs": [
    {
     "name": "stdout",
     "output_type": "stream",
     "text": [
      "INFO:tensorflow:Assets written to: ./models/assets\n"
     ]
    }
   ],
   "source": [
    "happyModel.save('./models')"
   ]
  },
  {
   "cell_type": "code",
   "execution_count": null,
   "metadata": {},
   "outputs": [],
   "source": [
    "# import requests\n",
    "# import json\n",
    "# v = [list([list([int(i) for i in e]) for e in l]) for l in list(X_train_orig[0])]\n",
    "# headers = {\"Content-Type\": \"application/json\"}\n",
    "# resp = requests.post(\"http://localhost:8501/v1/models/happy_face/versions/1:predict\", \n",
    "#               data=json.dumps({\"inputs\": {\"images\": [v]}}),  headers=headers, verify=False)\n",
    "# json.loads(resp.text)"
   ]
  }
 ],
 "metadata": {
  "kernelspec": {
   "display_name": "Python 3",
   "language": "python",
   "name": "python3"
  },
  "language_info": {
   "codemirror_mode": {
    "name": "ipython",
    "version": 3
   },
   "file_extension": ".py",
   "mimetype": "text/x-python",
   "name": "python",
   "nbconvert_exporter": "python",
   "pygments_lexer": "ipython3",
   "version": "3.8.2"
  }
 },
 "nbformat": 4,
 "nbformat_minor": 4
}
